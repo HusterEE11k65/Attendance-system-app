{
 "cells": [
  {
   "cell_type": "code",
   "execution_count": 1,
   "id": "5e286fb7-5f45-4f60-8a28-830b78d168b5",
   "metadata": {},
   "outputs": [],
   "source": [
    "import numpy as np\n",
    "import pandas as pd\n",
    "import redis "
   ]
  },
  {
   "cell_type": "code",
   "execution_count": 2,
   "id": "20961c88-0be2-4963-b89f-fd104bf1192d",
   "metadata": {},
   "outputs": [],
   "source": [
    "hostname = 'redis-11237.c1.asia-northeast1-1.gce.cloud.redislabs.com'\n",
    "port = 11237\n",
    "password = 'vYmPKiqSmHzksm03Dflznrc4KcWn0OMs'\n",
    "r = redis.Redis(\n",
    "    host=hostname,\n",
    "    port = port,\n",
    "    password=password)"
   ]
  },
  {
   "cell_type": "code",
   "execution_count": 3,
   "id": "d5707139-dca8-4979-80f3-91e241703084",
   "metadata": {},
   "outputs": [
    {
     "data": {
      "text/plain": [
       "True"
      ]
     },
     "execution_count": 3,
     "metadata": {},
     "output_type": "execute_result"
    }
   ],
   "source": [
    "r.ping()"
   ]
  },
  {
   "cell_type": "code",
   "execution_count": 4,
   "id": "1ffb2034-9459-4af1-8e8b-960274ebe171",
   "metadata": {},
   "outputs": [
    {
     "data": {
      "text/plain": [
       "b'Chris Evans@student'           b'\\xfa\\xbc\\xb6>(o\\xd4\\xbe~\\xa3 =\\xb6\\x11\\x1e\\x...\n",
       "b'quangld0@Student'              b'\\xc9\"\\xdc\\xbd\\xd2\\xf6\\x8b?\\xda\\xa1\\xe6?et\\x8...\n",
       "b'Morgan Freeman@principle'      b'(FC?V\\xffc?\\x1b\\xfe\\xef>\"\\x99\\x84>\\xf0\\xfcb\\...\n",
       "b'Angelina Jolie@student'        b'C\\x97K>\\xfe\\xc8\\xbc?\\xa7\\x9e\\xc8\\xbd\\xcaha\\x...\n",
       "b'Barack Obama@teacher'          b'\\xd5\\x19c\\xbez\\xc1\\xc9?\\xb8\\xc9\\x00\\xbf\\xf2F...\n",
       "b'Lionel Messi@Student'          b'\\x8fV\\x83\\xbf:\\x1e\\xed?\\xf8\\x07\\x12?\\x0b\\xcf...\n",
       "b'Scarlett Johansson@student'    b'\\xce\\x9b\\n\\xbeut\\x90\\xbe\\xda\\xa0\\xda\\xbe\\x11...\n",
       "dtype: object"
      ]
     },
     "execution_count": 4,
     "metadata": {},
     "output_type": "execute_result"
    }
   ],
   "source": [
    "name='Dolphin:Register'\n",
    "registered_series = pd.Series(r.hgetall(name))\n",
    "registered_series"
   ]
  },
  {
   "cell_type": "code",
   "execution_count": 5,
   "id": "95e433ab-7eec-4834-ab25-20402a1e791b",
   "metadata": {},
   "outputs": [
    {
     "data": {
      "text/plain": [
       "1"
      ]
     },
     "execution_count": 5,
     "metadata": {},
     "output_type": "execute_result"
    }
   ],
   "source": [
    "key_to_delete = 'quangld0@Student'\n",
    "r.hdel(name,key_to_delete)"
   ]
  },
  {
   "cell_type": "code",
   "execution_count": 6,
   "id": "08c403b6-5f01-4135-ba4d-dda0597cdc63",
   "metadata": {},
   "outputs": [
    {
     "data": {
      "text/plain": [
       "b'Chris Evans@student'           b'\\xfa\\xbc\\xb6>(o\\xd4\\xbe~\\xa3 =\\xb6\\x11\\x1e\\x...\n",
       "b'Morgan Freeman@principle'      b'(FC?V\\xffc?\\x1b\\xfe\\xef>\"\\x99\\x84>\\xf0\\xfcb\\...\n",
       "b'Angelina Jolie@student'        b'C\\x97K>\\xfe\\xc8\\xbc?\\xa7\\x9e\\xc8\\xbd\\xcaha\\x...\n",
       "b'Barack Obama@teacher'          b'\\xd5\\x19c\\xbez\\xc1\\xc9?\\xb8\\xc9\\x00\\xbf\\xf2F...\n",
       "b'Lionel Messi@Student'          b'\\x8fV\\x83\\xbf:\\x1e\\xed?\\xf8\\x07\\x12?\\x0b\\xcf...\n",
       "b'Scarlett Johansson@student'    b'\\xce\\x9b\\n\\xbeut\\x90\\xbe\\xda\\xa0\\xda\\xbe\\x11...\n",
       "dtype: object"
      ]
     },
     "execution_count": 6,
     "metadata": {},
     "output_type": "execute_result"
    }
   ],
   "source": [
    "registered_series = pd.Series(r.hgetall(name))\n",
    "registered_series"
   ]
  },
  {
   "cell_type": "code",
   "execution_count": null,
   "id": "61649943-447d-448f-a755-cd6bdb83716e",
   "metadata": {},
   "outputs": [],
   "source": []
  }
 ],
 "metadata": {
  "kernelspec": {
   "display_name": "Python 3 (ipykernel)",
   "language": "python",
   "name": "python3"
  },
  "language_info": {
   "codemirror_mode": {
    "name": "ipython",
    "version": 3
   },
   "file_extension": ".py",
   "mimetype": "text/x-python",
   "name": "python",
   "nbconvert_exporter": "python",
   "pygments_lexer": "ipython3",
   "version": "3.11.0"
  }
 },
 "nbformat": 4,
 "nbformat_minor": 5
}
